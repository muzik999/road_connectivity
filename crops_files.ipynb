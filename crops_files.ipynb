{
 "cells": [
  {
   "cell_type": "markdown",
   "metadata": {},
   "source": [
    "### Convert big tif files to smaller png files"
   ]
  },
  {
   "cell_type": "code",
   "execution_count": 19,
   "metadata": {},
   "outputs": [],
   "source": [
    "import matplotlib.pyplot as plt\n",
    "import os\n",
    "import numpy as np\n",
    "import skimage.external.tifffile as tiff\n",
    "import cv2\n",
    "import shutil"
   ]
  },
  {
   "cell_type": "code",
   "execution_count": 2,
   "metadata": {},
   "outputs": [],
   "source": [
    "# path_to_masks = './stratford/masks/'                    # assuming big tif images are in masks folder\n",
    "# path_to_save_converted_masks = './stratford/masks_png/'    # assuming png to be saved in layers folder\n",
    "\n",
    "# images = os.listdir(path_to_masks)\n",
    "\n",
    "# RESIZE_TO = (5000, 5000)"
   ]
  },
  {
   "cell_type": "code",
   "execution_count": 3,
   "metadata": {},
   "outputs": [],
   "source": [
    "# for image in images:\n",
    "#     img_ = tiff.imread(os.path.join(path_to_masks, image))\n",
    "    \n",
    "#     mask_resize_ = cv2.resize(img_.astype(np.uint8), (5000,5000))\n",
    "    \n",
    "#     file_name = image.split('mask_')[-1].replace('tif', 'png')\n",
    "    \n",
    "#     cv2.imwrite(os.path.join(path_to_save_converted_masks, file_name), mask_resize_)"
   ]
  },
  {
   "cell_type": "code",
   "execution_count": null,
   "metadata": {},
   "outputs": [],
   "source": []
  },
  {
   "cell_type": "markdown",
   "metadata": {},
   "source": [
    "### Make train_crops.txt and val_crops.txt\n"
   ]
  },
  {
   "cell_type": "code",
   "execution_count": 36,
   "metadata": {},
   "outputs": [],
   "source": [
    "import mmap\n",
    "from skimage import io\n",
    "from matplotlib import image\n",
    "import random\n",
    "import pandas as pd"
   ]
  },
  {
   "cell_type": "code",
   "execution_count": 5,
   "metadata": {},
   "outputs": [],
   "source": [
    "size = 1700\n",
    "stride = 1500\n",
    "\n",
    "VAL_SPLIT = 20\n",
    "TEST_SPLIT = 10\n",
    "random.seed(7)\n",
    "\n",
    "image_extension = '.png'\n",
    "mask_extension =  '.png'"
   ]
  },
  {
   "cell_type": "code",
   "execution_count": 6,
   "metadata": {},
   "outputs": [],
   "source": [
    "def is_pad_needed(H, W, C, size, stride, img, image_name):\n",
    "    if (H%stride) == 0 and (W%stride) == 0:\n",
    "        print('No padding required for image {}'.format(image_name))\n",
    "    \n",
    "    else:\n",
    "        print('Image -> {}:'.format(image_name))\n",
    "        if (H%stride) != 0:\n",
    "            print('\\t Padded horizontally, {} pixels'.format(size - H%stride))\n",
    "            h_pad = W + size - H%stride\n",
    "        \n",
    "        if (W%stride) != 0:\n",
    "            print('\\t Padded vertically  , {} pixels'.format(size - W%stride))\n",
    "            v_pad = H + size - W%stride\n",
    "        \n",
    "        temp = np.zeros((v_pad, h_pad, C), dtype=np.uint8)\n",
    "        temp[:H, :W, :] = img\n",
    "        return temp"
   ]
  },
  {
   "cell_type": "code",
   "execution_count": 7,
   "metadata": {},
   "outputs": [],
   "source": [
    "def get_valid_image_file(image_file):\n",
    "    try:\n",
    "        img = io.imread(image_file)\n",
    "    except:\n",
    "        return False\n",
    "    else:\n",
    "        return True"
   ]
  },
  {
   "cell_type": "code",
   "execution_count": 8,
   "metadata": {},
   "outputs": [],
   "source": [
    "files = []\n",
    "# failed_files = []\n",
    "\n",
    "base_dir = './data/stratford/rgb_images/'\n",
    "layers_dir = './data/stratford/masks_png/'\n",
    "save_dir = './data/stratford/crops' + '_' + str(size) + '_' + str(stride)\n",
    "\n",
    "for file in os.listdir(base_dir):\n",
    "    if file.endswith(image_extension):                                             # <--------- Mention the big image extension here. \n",
    "        files.append(file)\n",
    "        \n",
    "random.shuffle(files)\n",
    "\n",
    "nos_val = int(len(files)*VAL_SPLIT/100)\n",
    "nos_test = int(len(files)*TEST_SPLIT/100)\n",
    "\n",
    "train_images = files[nos_test + nos_val :]\n",
    "val_images = files[:nos_val]\n",
    "test_images = files[nos_val : nos_test + nos_val]"
   ]
  },
  {
   "cell_type": "code",
   "execution_count": 10,
   "metadata": {},
   "outputs": [],
   "source": [
    "if not os.path.isdir(save_dir):\n",
    "    os.makedirs(save_dir+'/train_crops'+'/gt')\n",
    "    os.makedirs(save_dir+'/train_crops'+'/images')\n",
    "    os.makedirs(save_dir+'/val_crops'+'/gt')\n",
    "    os.makedirs(save_dir+'/val_crops'+'/images')\n",
    "    os.makedirs(save_dir+'/test_crops'+'/gt')\n",
    "    os.makedirs(save_dir+'/test_crops'+'/images')\n",
    "\n",
    "    os.makedirs(save_dir+'/images')\n",
    "    os.makedirs(save_dir+'/gt')"
   ]
  },
  {
   "cell_type": "code",
   "execution_count": null,
   "metadata": {},
   "outputs": [],
   "source": []
  },
  {
   "cell_type": "code",
   "execution_count": null,
   "metadata": {},
   "outputs": [],
   "source": [
    "png_1km17501048040SWOOP2015_0_0.png\n"
   ]
  },
  {
   "cell_type": "code",
   "execution_count": 24,
   "metadata": {},
   "outputs": [
    {
     "data": {
      "text/plain": [
       "'./data/stratford/crops_1700_1500/images/png_1km17501048040SWOOP2015_0_0.png'"
      ]
     },
     "execution_count": 24,
     "metadata": {},
     "output_type": "execute_result"
    }
   ],
   "source": []
  },
  {
   "cell_type": "code",
   "execution_count": 22,
   "metadata": {},
   "outputs": [
    {
     "data": {
      "text/plain": [
       "'./data/stratford/crops_1700_1500/train_crops/gt'"
      ]
     },
     "execution_count": 22,
     "metadata": {},
     "output_type": "execute_result"
    }
   ],
   "source": [
    "os.path.join(save_dir,'train_crops', 'gt')"
   ]
  },
  {
   "cell_type": "code",
   "execution_count": null,
   "metadata": {},
   "outputs": [],
   "source": []
  },
  {
   "cell_type": "code",
   "execution_count": null,
   "metadata": {},
   "outputs": [],
   "source": []
  },
  {
   "cell_type": "code",
   "execution_count": 26,
   "metadata": {},
   "outputs": [
    {
     "name": "stdout",
     "output_type": "stream",
     "text": [
      "Image -> png_1km17498047990SWOOP2015.png:\n",
      "\t Padded horizontally, 1200 pixels\n",
      "\t Padded vertically  , 1200 pixels\n",
      "Image -> png_1km17498047990SWOOP2015.png:\n",
      "\t Padded horizontally, 1200 pixels\n",
      "\t Padded vertically  , 1200 pixels\n",
      "Image -> png_1km17499048000SWOOP2015.png:\n",
      "\t Padded horizontally, 1200 pixels\n",
      "\t Padded vertically  , 1200 pixels\n",
      "Image -> png_1km17499048000SWOOP2015.png:\n",
      "\t Padded horizontally, 1200 pixels\n",
      "\t Padded vertically  , 1200 pixels\n",
      "Image -> png_1km17503047990SWOOP2015.png:\n",
      "\t Padded horizontally, 1200 pixels\n",
      "\t Padded vertically  , 1200 pixels\n",
      "Image -> png_1km17503047990SWOOP2015.png:\n",
      "\t Padded horizontally, 1200 pixels\n",
      "\t Padded vertically  , 1200 pixels\n",
      "Image -> png_1km17503048020SWOOP2015.png:\n",
      "\t Padded horizontally, 1200 pixels\n",
      "\t Padded vertically  , 1200 pixels\n",
      "Image -> png_1km17503048020SWOOP2015.png:\n",
      "\t Padded horizontally, 1200 pixels\n",
      "\t Padded vertically  , 1200 pixels\n",
      "Image -> png_1km17502048040SWOOP2015.png:\n",
      "\t Padded horizontally, 1200 pixels\n",
      "\t Padded vertically  , 1200 pixels\n",
      "Image -> png_1km17502048040SWOOP2015.png:\n",
      "\t Padded horizontally, 1200 pixels\n",
      "\t Padded vertically  , 1200 pixels\n",
      "Image -> png_1km17502048010SWOOP2015.png:\n",
      "\t Padded horizontally, 1200 pixels\n",
      "\t Padded vertically  , 1200 pixels\n",
      "Image -> png_1km17502048010SWOOP2015.png:\n",
      "\t Padded horizontally, 1200 pixels\n",
      "\t Padded vertically  , 1200 pixels\n",
      "Image -> png_1km17501048010SWOOP2015.png:\n",
      "\t Padded horizontally, 1200 pixels\n",
      "\t Padded vertically  , 1200 pixels\n",
      "Image -> png_1km17501048010SWOOP2015.png:\n",
      "\t Padded horizontally, 1200 pixels\n",
      "\t Padded vertically  , 1200 pixels\n",
      "Image -> png_1km17500048040SWOOP2015.png:\n",
      "\t Padded horizontally, 1200 pixels\n",
      "\t Padded vertically  , 1200 pixels\n",
      "Image -> png_1km17500048040SWOOP2015.png:\n",
      "\t Padded horizontally, 1200 pixels\n",
      "\t Padded vertically  , 1200 pixels\n",
      "Image -> png_1km17500048030SWOOP2015.png:\n",
      "\t Padded horizontally, 1200 pixels\n",
      "\t Padded vertically  , 1200 pixels\n",
      "Image -> png_1km17500048030SWOOP2015.png:\n",
      "\t Padded horizontally, 1200 pixels\n",
      "\t Padded vertically  , 1200 pixels\n",
      "Image -> png_1km17504048020SWOOP2015.png:\n",
      "\t Padded horizontally, 1200 pixels\n",
      "\t Padded vertically  , 1200 pixels\n",
      "Image -> png_1km17504048020SWOOP2015.png:\n",
      "\t Padded horizontally, 1200 pixels\n",
      "\t Padded vertically  , 1200 pixels\n",
      "Image -> png_1km17498047980SWOOP2015.png:\n",
      "\t Padded horizontally, 1200 pixels\n",
      "\t Padded vertically  , 1200 pixels\n",
      "Image -> png_1km17498047980SWOOP2015.png:\n",
      "\t Padded horizontally, 1200 pixels\n",
      "\t Padded vertically  , 1200 pixels\n",
      "Image -> png_1km17499047990SWOOP2015.png:\n",
      "\t Padded horizontally, 1200 pixels\n",
      "\t Padded vertically  , 1200 pixels\n",
      "Image -> png_1km17499047990SWOOP2015.png:\n",
      "\t Padded horizontally, 1200 pixels\n",
      "\t Padded vertically  , 1200 pixels\n",
      "Image -> png_1km17502047990SWOOP2015.png:\n",
      "\t Padded horizontally, 1200 pixels\n",
      "\t Padded vertically  , 1200 pixels\n",
      "Image -> png_1km17502047990SWOOP2015.png:\n",
      "\t Padded horizontally, 1200 pixels\n",
      "\t Padded vertically  , 1200 pixels\n",
      "Image -> png_1km17503048030SWOOP2015.png:\n",
      "\t Padded horizontally, 1200 pixels\n",
      "\t Padded vertically  , 1200 pixels\n",
      "Image -> png_1km17503048030SWOOP2015.png:\n",
      "\t Padded horizontally, 1200 pixels\n",
      "\t Padded vertically  , 1200 pixels\n",
      "Image -> png_1km17499047980SWOOP2015.png:\n",
      "\t Padded horizontally, 1200 pixels\n",
      "\t Padded vertically  , 1200 pixels\n",
      "Image -> png_1km17499047980SWOOP2015.png:\n",
      "\t Padded horizontally, 1200 pixels\n",
      "\t Padded vertically  , 1200 pixels\n",
      "Image -> png_1km17499048030SWOOP2015.png:\n",
      "\t Padded horizontally, 1200 pixels\n",
      "\t Padded vertically  , 1200 pixels\n",
      "Image -> png_1km17499048030SWOOP2015.png:\n",
      "\t Padded horizontally, 1200 pixels\n",
      "\t Padded vertically  , 1200 pixels\n",
      "Image -> png_1km17504048010SWOOP2015.png:\n",
      "\t Padded horizontally, 1200 pixels\n",
      "\t Padded vertically  , 1200 pixels\n",
      "Image -> png_1km17504048010SWOOP2015.png:\n",
      "\t Padded horizontally, 1200 pixels\n",
      "\t Padded vertically  , 1200 pixels\n",
      "Image -> png_1km17497047990SWOOP2015.png:\n",
      "\t Padded horizontally, 1200 pixels\n",
      "\t Padded vertically  , 1200 pixels\n",
      "Image -> png_1km17497047990SWOOP2015.png:\n",
      "\t Padded horizontally, 1200 pixels\n",
      "\t Padded vertically  , 1200 pixels\n",
      "Image -> png_1km17500048010SWOOP2015.png:\n",
      "\t Padded horizontally, 1200 pixels\n",
      "\t Padded vertically  , 1200 pixels\n",
      "Image -> png_1km17500048010SWOOP2015.png:\n",
      "\t Padded horizontally, 1200 pixels\n",
      "\t Padded vertically  , 1200 pixels\n",
      "Image -> png_1km17498048000SWOOP2015.png:\n",
      "\t Padded horizontally, 1200 pixels\n",
      "\t Padded vertically  , 1200 pixels\n",
      "Image -> png_1km17498048000SWOOP2015.png:\n",
      "\t Padded horizontally, 1200 pixels\n",
      "\t Padded vertically  , 1200 pixels\n",
      "Image -> png_1km17498048010SWOOP2015.png:\n",
      "\t Padded horizontally, 1200 pixels\n",
      "\t Padded vertically  , 1200 pixels\n",
      "Image -> png_1km17498048010SWOOP2015.png:\n",
      "\t Padded horizontally, 1200 pixels\n",
      "\t Padded vertically  , 1200 pixels\n",
      "Image -> png_1km17502048000SWOOP2015.png:\n",
      "\t Padded horizontally, 1200 pixels\n",
      "\t Padded vertically  , 1200 pixels\n",
      "Image -> png_1km17502048000SWOOP2015.png:\n",
      "\t Padded horizontally, 1200 pixels\n",
      "\t Padded vertically  , 1200 pixels\n",
      "Image -> png_1km17500047990SWOOP2015.png:\n",
      "\t Padded horizontally, 1200 pixels\n",
      "\t Padded vertically  , 1200 pixels\n",
      "Image -> png_1km17500047990SWOOP2015.png:\n",
      "\t Padded horizontally, 1200 pixels\n",
      "\t Padded vertically  , 1200 pixels\n",
      "Image -> png_1km17499048020SWOOP2015.png:\n",
      "\t Padded horizontally, 1200 pixels\n",
      "\t Padded vertically  , 1200 pixels\n",
      "Image -> png_1km17499048020SWOOP2015.png:\n",
      "\t Padded horizontally, 1200 pixels\n",
      "\t Padded vertically  , 1200 pixels\n",
      "Image -> png_1km17503048040SWOOP2015.png:\n",
      "\t Padded horizontally, 1200 pixels\n",
      "\t Padded vertically  , 1200 pixels\n",
      "Image -> png_1km17503048040SWOOP2015.png:\n",
      "\t Padded horizontally, 1200 pixels\n",
      "\t Padded vertically  , 1200 pixels\n",
      "Image -> png_1km17501047990SWOOP2015.png:\n",
      "\t Padded horizontally, 1200 pixels\n",
      "\t Padded vertically  , 1200 pixels\n",
      "Image -> png_1km17501047990SWOOP2015.png:\n",
      "\t Padded horizontally, 1200 pixels\n",
      "\t Padded vertically  , 1200 pixels\n",
      "Image -> png_1km17502048030SWOOP2015.png:\n",
      "\t Padded horizontally, 1200 pixels\n",
      "\t Padded vertically  , 1200 pixels\n",
      "Image -> png_1km17502048030SWOOP2015.png:\n",
      "\t Padded horizontally, 1200 pixels\n",
      "\t Padded vertically  , 1200 pixels\n",
      "Image -> png_1km17500048020SWOOP2015.png:\n",
      "\t Padded horizontally, 1200 pixels\n",
      "\t Padded vertically  , 1200 pixels\n",
      "Image -> png_1km17500048020SWOOP2015.png:\n",
      "\t Padded horizontally, 1200 pixels\n",
      "\t Padded vertically  , 1200 pixels\n"
     ]
    }
   ],
   "source": [
    "crop_file = open(os.path.join(save_dir,('train_crops' + '.txt')), 'w')\n",
    "for file in train_images:\n",
    "    path_to_image = os.path.join(base_dir,file)\n",
    "    path_to_layer = os.path.join(layers_dir, file[4:])\n",
    "    \n",
    "    imgBGR = cv2.imread(path_to_image)\n",
    "    mask = cv2.imread(path_to_layer)\n",
    "    \n",
    "    H,W,C = imgBGR.shape\n",
    "    \n",
    "    imgBGR = is_pad_needed(H, W, C, size, stride, imgBGR, file)\n",
    "    mask = is_pad_needed(H, W, C, size, stride, mask, file)\n",
    "    \n",
    "    maxx = int(np.ceil((H-size)/stride))\n",
    "    maxy = int(np.ceil((W-size)/stride))\n",
    "    \n",
    "    for x in range(maxx+1):\n",
    "        for y in range(maxy+1):\n",
    "            im_ = imgBGR[x*stride:x*stride + size,y*stride:y*stride + size,:]\n",
    "            mask_ = mask[x*stride:x*stride + size,y*stride:y*stride + size,:] * 255\n",
    "            \n",
    "            cv2.imwrite(save_dir+'/train_crops/images/{}_{}_{}.png'.format(file[:-4],x,y),  im_)\n",
    "            cv2.imwrite(save_dir+'/train_crops/gt/{}_{}_{}.png'.format(file[:-4],x,y),  mask_)\n",
    "            \n",
    "            crop_file.write('{}_{}_{}\\n'.format(file[:-4],x,y))\n",
    "        \n",
    "crop_file.close()"
   ]
  },
  {
   "cell_type": "code",
   "execution_count": 27,
   "metadata": {},
   "outputs": [
    {
     "name": "stdout",
     "output_type": "stream",
     "text": [
      "Image -> png_1km17501048000SWOOP2015.png:\n",
      "\t Padded horizontally, 1200 pixels\n",
      "\t Padded vertically  , 1200 pixels\n",
      "Image -> png_1km17501048000SWOOP2015.png:\n",
      "\t Padded horizontally, 1200 pixels\n",
      "\t Padded vertically  , 1200 pixels\n",
      "Image -> png_1km17501048020SWOOP2015.png:\n",
      "\t Padded horizontally, 1200 pixels\n",
      "\t Padded vertically  , 1200 pixels\n",
      "Image -> png_1km17501048020SWOOP2015.png:\n",
      "\t Padded horizontally, 1200 pixels\n",
      "\t Padded vertically  , 1200 pixels\n",
      "Image -> png_1km17501048030SWOOP2015.png:\n",
      "\t Padded horizontally, 1200 pixels\n",
      "\t Padded vertically  , 1200 pixels\n",
      "Image -> png_1km17501048030SWOOP2015.png:\n",
      "\t Padded horizontally, 1200 pixels\n",
      "\t Padded vertically  , 1200 pixels\n",
      "Image -> png_1km17498048020SWOOP2015.png:\n",
      "\t Padded horizontally, 1200 pixels\n",
      "\t Padded vertically  , 1200 pixels\n",
      "Image -> png_1km17498048020SWOOP2015.png:\n",
      "\t Padded horizontally, 1200 pixels\n",
      "\t Padded vertically  , 1200 pixels\n",
      "Image -> png_1km17500048000SWOOP2015.png:\n",
      "\t Padded horizontally, 1200 pixels\n",
      "\t Padded vertically  , 1200 pixels\n",
      "Image -> png_1km17500048000SWOOP2015.png:\n",
      "\t Padded horizontally, 1200 pixels\n",
      "\t Padded vertically  , 1200 pixels\n",
      "Image -> png_1km17503048010SWOOP2015.png:\n",
      "\t Padded horizontally, 1200 pixels\n",
      "\t Padded vertically  , 1200 pixels\n",
      "Image -> png_1km17503048010SWOOP2015.png:\n",
      "\t Padded horizontally, 1200 pixels\n",
      "\t Padded vertically  , 1200 pixels\n",
      "Image -> png_1km17499048010SWOOP2015.png:\n",
      "\t Padded horizontally, 1200 pixels\n",
      "\t Padded vertically  , 1200 pixels\n",
      "Image -> png_1km17499048010SWOOP2015.png:\n",
      "\t Padded horizontally, 1200 pixels\n",
      "\t Padded vertically  , 1200 pixels\n"
     ]
    }
   ],
   "source": [
    "crop_file = open(os.path.join(save_dir,('val_crops' + '.txt')), 'w')\n",
    "for file in val_images:\n",
    "    path_to_image = os.path.join(base_dir,file)\n",
    "    path_to_layer = os.path.join(layers_dir, file[4:])\n",
    "    \n",
    "    imgBGR = cv2.imread(path_to_image)\n",
    "    mask = cv2.imread(path_to_layer)\n",
    "    \n",
    "    H,W,C = imgBGR.shape\n",
    "    \n",
    "    imgBGR = is_pad_needed(H, W, C, size, stride, imgBGR, file)\n",
    "    mask = is_pad_needed(H, W, C, size, stride, mask, file)\n",
    "    \n",
    "    maxx = int(np.ceil((H-size)/stride))\n",
    "    maxy = int(np.ceil((W-size)/stride))\n",
    "    \n",
    "    for x in range(maxx+1):\n",
    "        for y in range(maxy+1):\n",
    "            im_ = imgBGR[x*stride:x*stride + size,y*stride:y*stride + size,:]\n",
    "            mask_ = mask[x*stride:x*stride + size,y*stride:y*stride + size,:] * 255\n",
    "            \n",
    "            cv2.imwrite(save_dir+'/val_crops/images/{}_{}_{}.png'.format(file[:-4],x,y),  im_)\n",
    "            cv2.imwrite(save_dir+'/val_crops/gt/{}_{}_{}.png'.format(file[:-4],x,y),  mask_)\n",
    "            \n",
    "            crop_file.write('{}_{}_{}\\n'.format(file[:-4],x,y))\n",
    "crop_file.close()"
   ]
  },
  {
   "cell_type": "code",
   "execution_count": 28,
   "metadata": {},
   "outputs": [
    {
     "name": "stdout",
     "output_type": "stream",
     "text": [
      "Image -> png_1km17501048040SWOOP2015.png:\n",
      "\t Padded horizontally, 1200 pixels\n",
      "\t Padded vertically  , 1200 pixels\n",
      "Image -> png_1km17501048040SWOOP2015.png:\n",
      "\t Padded horizontally, 1200 pixels\n",
      "\t Padded vertically  , 1200 pixels\n",
      "Image -> png_1km17502048020SWOOP2015.png:\n",
      "\t Padded horizontally, 1200 pixels\n",
      "\t Padded vertically  , 1200 pixels\n",
      "Image -> png_1km17502048020SWOOP2015.png:\n",
      "\t Padded horizontally, 1200 pixels\n",
      "\t Padded vertically  , 1200 pixels\n",
      "Image -> png_1km17503048000SWOOP2015.png:\n",
      "\t Padded horizontally, 1200 pixels\n",
      "\t Padded vertically  , 1200 pixels\n",
      "Image -> png_1km17503048000SWOOP2015.png:\n",
      "\t Padded horizontally, 1200 pixels\n",
      "\t Padded vertically  , 1200 pixels\n"
     ]
    }
   ],
   "source": [
    "crop_file = open(os.path.join(save_dir,('test_crops' + '.txt')), 'w')\n",
    "for file in test_images:\n",
    "    path_to_image = os.path.join(base_dir,file)\n",
    "    path_to_layer = os.path.join(layers_dir, file[4:])\n",
    "    \n",
    "    imgBGR = cv2.imread(path_to_image)\n",
    "    mask = cv2.imread(path_to_layer)\n",
    "    \n",
    "    H,W,C = imgBGR.shape\n",
    "    \n",
    "    imgBGR = is_pad_needed(H, W, C, size, stride, imgBGR, file)\n",
    "    mask = is_pad_needed(H, W, C, size, stride, mask, file)\n",
    "    \n",
    "    maxx = int(np.ceil((H-size)/stride))\n",
    "    maxy = int(np.ceil((W-size)/stride))\n",
    "    \n",
    "    for x in range(maxx+1):\n",
    "        for y in range(maxy+1):\n",
    "            im_ = imgBGR[x*stride:x*stride + size,y*stride:y*stride + size,:]\n",
    "            mask_ = mask[x*stride:x*stride + size,y*stride:y*stride + size,:]\n",
    "            \n",
    "            cv2.imwrite(save_dir+'/test_crops/images/{}_{}_{}.png'.format(file[:-4],x,y),  im_)\n",
    "            cv2.imwrite(save_dir+'/test_crops/gt/{}_{}_{}.png'.format(file[:-4],x,y),  mask_)\n",
    "            \n",
    "            crop_file.write('{}_{}_{}\\n'.format(file[:-4],x,y))\n",
    "crop_file.close()"
   ]
  },
  {
   "cell_type": "markdown",
   "metadata": {},
   "source": [
    "### Moving files to make stratford dataset for "
   ]
  },
  {
   "cell_type": "code",
   "execution_count": 103,
   "metadata": {},
   "outputs": [],
   "source": [
    "all_images_file = open(os.path.join(save_dir, ('all_crops_') + str(size) + '_' + str(stride) + '.txt'), mode = 'w')"
   ]
  },
  {
   "cell_type": "code",
   "execution_count": 104,
   "metadata": {},
   "outputs": [],
   "source": [
    "def make_testing_dir(mode):\n",
    "    names = pd.read_csv(os.path.join(save_dir,(mode + '.txt')), header = None)\n",
    "    \n",
    "    path_images = os.path.join(save_dir, mode, 'images')\n",
    "    path_gt = os.path.join(save_dir, mode, 'gt')\n",
    "    \n",
    "    for i in range(len(names)):\n",
    "        img_name = os.path.join(path_images, names.iloc[i,0]) + image_extension\n",
    "        gt_name = os.path.join(path_gt, names.iloc[i,0]) + mask_extension\n",
    "            \n",
    "        shutil.copy2(src =  img_name, \n",
    "                     dst = os.path.join(save_dir, 'images'))   # moving image\n",
    "        shutil.copy2(src =  gt_name, \n",
    "                     dst = os.path.join(save_dir, 'gt'))       # moving mask\n",
    "    \n",
    "        all_images_file.write(names.iloc[i,0] + image_extension + '\\n')   # writing name to file"
   ]
  },
  {
   "cell_type": "code",
   "execution_count": 105,
   "metadata": {},
   "outputs": [],
   "source": [
    "make_testing_dir('train_crops')\n",
    "make_testing_dir('val_crops')\n",
    "make_testing_dir('test_crops')"
   ]
  },
  {
   "cell_type": "code",
   "execution_count": 106,
   "metadata": {},
   "outputs": [],
   "source": [
    "all_images_file.close()"
   ]
  },
  {
   "cell_type": "code",
   "execution_count": null,
   "metadata": {},
   "outputs": [],
   "source": []
  },
  {
   "cell_type": "code",
   "execution_count": 84,
   "metadata": {},
   "outputs": [],
   "source": []
  },
  {
   "cell_type": "code",
   "execution_count": null,
   "metadata": {},
   "outputs": [],
   "source": []
  }
 ],
 "metadata": {
  "kernelspec": {
   "display_name": "Python 3",
   "language": "python",
   "name": "python3"
  },
  "language_info": {
   "codemirror_mode": {
    "name": "ipython",
    "version": 3
   },
   "file_extension": ".py",
   "mimetype": "text/x-python",
   "name": "python",
   "nbconvert_exporter": "python",
   "pygments_lexer": "ipython3",
   "version": "3.7.4"
  }
 },
 "nbformat": 4,
 "nbformat_minor": 4
}
