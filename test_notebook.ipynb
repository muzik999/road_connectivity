{
 "cells": [
  {
   "cell_type": "code",
   "execution_count": 4,
   "metadata": {},
   "outputs": [
    {
     "name": "stdout",
     "output_type": "stream",
     "text": [
      "allocation.sh\t\t    save\r\n",
      "APLS-Visualizer\t\t    sbatch_big_graham_gpu_node_job.sh\r\n",
      "assests\t\t\t    slurm-39652892.out\r\n",
      "big_graham_gpu_node_job.sh  slurm-39653131.out\r\n",
      "config.json\t\t    split_data.sh\r\n",
      "create_crops.py\t\t    testing_sbatch.sh\r\n",
      "data\t\t\t    test_notebook.ipynb\r\n",
      "data_utils\t\t    train_mtl.py\r\n",
      "LICENSE\t\t\t    train_refine_pre.py\r\n",
      "model\t\t\t    utils\r\n",
      "preprocessing\t\t    visualize_dataset_corrupt.ipynb\r\n",
      "__pycache__\t\t    visualize_dataset.ipynb\r\n",
      "README.md\t\t    visualize_tasks.ipynb\r\n",
      "road_dataset.py\r\n"
     ]
    }
   ],
   "source": [
    "!ls"
   ]
  },
  {
   "cell_type": "code",
   "execution_count": 8,
   "metadata": {},
   "outputs": [
    {
     "name": "stdout",
     "output_type": "stream",
     "text": [
      "Random Seed:  7\n",
      "./save/test_dg_stak_mtl_zero_train/spacenet_train_loss.txt\n",
      "Training with multiple GPUs (2)\n",
      "Threshold is set to 0.76 for train\n",
      "Threshold is set to 0.76 for val\n",
      "Training with dataset => SpacenetDataset\n",
      "****************************************************************************************************\n",
      "Trainable parameters for Model StackHourglassNetMTL : 29.002012 M\n",
      "****************************************************************************************************\n",
      "/home/muzik999/road_pytorchPy37/lib/python3.7/site-packages/torch/nn/_reduction.py:44: UserWarning: size_average and reduce args will be deprecated, please use reduction='mean' instead.\n",
      "  warnings.warn(warning.format(ret))\n"
     ]
    }
   ],
   "source": [
    "!CUDA_VISIBLE_DEVICES=0,1 python train_mtl.py --config config.json --dataset spacenet --model_name \"StackHourglassNetMTL\" --exp test_dg_stak_mtl_zero_train"
   ]
  },
  {
   "cell_type": "code",
   "execution_count": null,
   "metadata": {},
   "outputs": [],
   "source": []
  }
 ],
 "metadata": {
  "kernelspec": {
   "display_name": "Python 3",
   "language": "python",
   "name": "python3"
  },
  "language_info": {
   "codemirror_mode": {
    "name": "ipython",
    "version": 3
   },
   "file_extension": ".py",
   "mimetype": "text/x-python",
   "name": "python",
   "nbconvert_exporter": "python",
   "pygments_lexer": "ipython3",
   "version": "3.7.4"
  }
 },
 "nbformat": 4,
 "nbformat_minor": 4
}
